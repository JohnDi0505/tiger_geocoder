{
 "cells": [
  {
   "cell_type": "code",
   "execution_count": 1,
   "metadata": {
    "ExecuteTime": {
     "end_time": "2019-09-30T22:24:26.322560Z",
     "start_time": "2019-09-30T22:24:26.167079Z"
    }
   },
   "outputs": [],
   "source": [
    "import csv\n",
    "import re\n",
    "import timeit\n",
    "import datetime\n",
    "from datetime import timedelta\n",
    "import psycopg2\n",
    "import smtplib\n",
    "from email.mime.text import MIMEText\n",
    "from email.mime.multipart import MIMEMultipart"
   ]
  },
  {
   "cell_type": "code",
   "execution_count": 2,
   "metadata": {
    "ExecuteTime": {
     "end_time": "2019-09-30T22:24:26.328501Z",
     "start_time": "2019-09-30T22:24:26.324536Z"
    }
   },
   "outputs": [],
   "source": [
    "smtp_server = \"smtp.gmail.com\"\n",
    "sender_email = \"rise.python.automail@gmail.com\"  # Enter your address\n",
    "receiver_email = \"chongdi0505@gmail.com\"  # Enter receiver address\n",
    "password = \"rise654321\""
   ]
  },
  {
   "cell_type": "code",
   "execution_count": 3,
   "metadata": {
    "ExecuteTime": {
     "end_time": "2019-09-30T22:24:26.341466Z",
     "start_time": "2019-09-30T22:24:26.332488Z"
    }
   },
   "outputs": [],
   "source": [
    "output_header = [\"Ticket\",\n",
    "                 \"Date\",\n",
    "                 \"Time\",\n",
    "                 \"Header\",\n",
    "                 \"County\",\n",
    "                 \"Rating\",\n",
    "                 \"Longitude\",\n",
    "                 \"Latitude\",\n",
    "                 \"St_number\",\n",
    "                 \"St_name\",\n",
    "                 \"Neighborhood\",\n",
    "                 \"City\",\n",
    "                 \"State\",\n",
    "                 \"Zip\",\n",
    "                 \"Excav_company\",\n",
    "                 \"Inter1\",\n",
    "                 \"Inter2\"]"
   ]
  },
  {
   "cell_type": "code",
   "execution_count": 4,
   "metadata": {
    "ExecuteTime": {
     "end_time": "2019-09-30T22:24:26.354431Z",
     "start_time": "2019-09-30T22:24:26.345460Z"
    }
   },
   "outputs": [],
   "source": [
    "def email_notification(subject, message):\n",
    "    \n",
    "    msg = MIMEMultipart()\n",
    "    msg['From'] = sender_email\n",
    "    msg['To'] = receiver_email\n",
    "    msg['Subject'] = subject\n",
    "\n",
    "    # Attach the message to the MIMEMultipart object\n",
    "    msg.attach(MIMEText(message, 'plain'))\n",
    "\n",
    "    server = smtplib.SMTP('smtp.gmail.com', 587)\n",
    "    server.starttls()\n",
    "    server.login(sender_email, password)\n",
    "    text = msg.as_string() # You now need to convert the MIMEMultipart object to a string to send\n",
    "    server.sendmail(sender_email, receiver_email, text)\n",
    "    server.quit()"
   ]
  },
  {
   "cell_type": "code",
   "execution_count": 5,
   "metadata": {
    "ExecuteTime": {
     "end_time": "2019-09-30T22:24:26.369408Z",
     "start_time": "2019-09-30T22:24:26.358421Z"
    }
   },
   "outputs": [],
   "source": [
    "def session_start_msg(input_path, output_path, input_file, entries):\n",
    "    \n",
    "    start_time = datetime.datetime.now()\n",
    "    processing_duration_sec = entries * 7\n",
    "    finish_time = start_time + timedelta(seconds = processing_duration_sec)\n",
    "    \n",
    "    subject = \"Geocoding Session Started\"\n",
    "    \n",
    "    start_message = \"\"\"\\\n",
    "    Job started at %d:%d:%d %d-%d-%d\n",
    "    \n",
    "    Input location: %s\n",
    "    Output location: %s\n",
    "    Input file: %s\n",
    "    \n",
    "    Total input entries: %d\n",
    "    Estimated processing time: %d hours %d minutes(7 seconds per entry)\n",
    "    Anticipated finishing time: %d:%d:%d %d-%d-%d\n",
    "    \"\"\" % (\n",
    "        start_time.time().hour,\n",
    "        start_time.time().minute,\n",
    "        start_time.time().second,\n",
    "        start_time.date().month,\n",
    "        start_time.date().day,\n",
    "        start_time.date().year,\n",
    "        input_path,\n",
    "        output_path,\n",
    "        input_file,\n",
    "        entries,\n",
    "        processing_duration_sec // 3600,\n",
    "        processing_duration_sec % 3600 // 60,\n",
    "        finish_time.time().hour,\n",
    "        finish_time.time().minute,\n",
    "        finish_time.time().second,\n",
    "        finish_time.date().month,\n",
    "        finish_time.date().day,\n",
    "        finish_time.date().year,\n",
    "            )\n",
    "    return(subject, start_message)\n",
    "    \n",
    "#sbj, messageg = session_start_msg('./', './', 'ticketSearchResults-2015-02-09-20_48_16.txt', 13600)"
   ]
  },
  {
   "cell_type": "code",
   "execution_count": 6,
   "metadata": {
    "ExecuteTime": {
     "end_time": "2019-09-30T22:24:26.384349Z",
     "start_time": "2019-09-30T22:24:26.373380Z"
    }
   },
   "outputs": [],
   "source": [
    "def session_finish_msg(input_path, output_path, input_file, processed_indices, ungeocoded_indices, total_lines):\n",
    "    \n",
    "    stop_time = datetime.datetime.now()\n",
    "    ungeocoded_rate = ungeocoded_indices / (processed_indices + 1) * 100\n",
    "    \n",
    "    subject = \"Geocoding Session Complete\"\n",
    "\n",
    "    start_message = \"\"\"\\\n",
    "    Job finished at %d:%d:%d %d-%d-%d\n",
    "\n",
    "    Input location: %s\n",
    "    Output location: %s\n",
    "    Input file: %s\n",
    "\n",
    "    Total processed entries: %d\n",
    "    Ungeocoded entries: %d\n",
    "    Ungeocoded rate: %.2f%%\n",
    "    \"\"\" % (\n",
    "        stop_time.time().hour,\n",
    "        stop_time.time().minute,\n",
    "        stop_time.time().second,\n",
    "        stop_time.date().month,\n",
    "        stop_time.date().day,\n",
    "        stop_time.date().year,\n",
    "        input_path,\n",
    "        output_path,\n",
    "        input_file,\n",
    "        processed_indices + 1,\n",
    "        ungeocoded_indices,\n",
    "        ungeocoded_rate\n",
    "            )\n",
    "    return(subject, start_message)"
   ]
  },
  {
   "cell_type": "code",
   "execution_count": 7,
   "metadata": {
    "ExecuteTime": {
     "end_time": "2019-09-30T22:25:06.668887Z",
     "start_time": "2019-09-30T22:24:26.388340Z"
    }
   },
   "outputs": [],
   "source": [
    "def geocoder(input_path, output_path, input_file):\n",
    "\n",
    "    # preparing for geocoding\n",
    "    try:\n",
    "        conn = psycopg2.connect(\"dbname='geocoder' user='postgres' host='localhost' password='postgres'\")\n",
    "        print(\"Database connected!\", end='\\r')\n",
    "        cur = conn.cursor()\n",
    "    except:\n",
    "        print(\"Python is not able to connect to the database!\", end='\\r')\n",
    "    \n",
    "    f_in = open(input_path + input_file, 'r')\n",
    "    f_out = open(output_path + input_file.replace('.txt', '.csv'), 'w')\n",
    "    f_bad = open(output_path + input_file.replace('emergency', 'badlines'), 'w')\n",
    "    f_log = open(output_path + input_file.replace('.txt', '.log'), 'w')\n",
    "    \n",
    "    write_header = csv.writer(f_out, lineterminator='\\n')\n",
    "    write_header.writerow(output_header)\n",
    "    \n",
    "    lines = f_in.readlines()\n",
    "    total_entry = len(lines)\n",
    "    \n",
    "    # send email notification when session started\n",
    "    start_sbj, start_msg = session_start_msg(input_path, output_path, input_file, total_entry)\n",
    "    email_notification(start_sbj, start_msg)\n",
    "    \n",
    "    # geocoding\n",
    "    \n",
    "    i = 0 # index for all processed entries\n",
    "    n = 0 # index for all ungeocoded entries\n",
    "    \n",
    "    for line in lines:\n",
    "        if not re.search(r'Ticket', line):\n",
    "            rec = line.split('~')\n",
    "            address = (rec[6], # street number\n",
    "                       rec[7].replace(\"'\", \"''\"), # street name\n",
    "                       rec[4]) # city name\n",
    "\n",
    "            expression = \"\"\"SELECT g.rating, ST_X(g.geomout), ST_Y(g.geomout), (addy).address, (addy).streetname, (addy).location, (addy).stateabbrev, (addy).zip FROM geocode('%s %s, %s, NJ', 1) AS g;\"\"\" % address\n",
    "\n",
    "            cur.execute(expression)\n",
    "\n",
    "            try:\n",
    "\n",
    "                rows = [str(x) for x in cur.fetchall()[0]]\n",
    "\n",
    "                f_out.write(\"%s,%s,%s,%s,%s,\" % (\n",
    "                    rec[0], # ticket\n",
    "                    rec[1].split(' ')[0], # date\n",
    "                    rec[1].split(' ')[1], # time\n",
    "                    rec[2], # header\n",
    "                    rec[3]  # county\n",
    "                ))\n",
    "\n",
    "                f_out.write(\"%s,%s,%s,%s,%s,%s,%s,%s,\" % (\n",
    "                    rows[0], # rating int\n",
    "                    rows[1], # longitude float.13\n",
    "                    rows[2], # latitude float.13\n",
    "                    rows[3], # street number int\n",
    "                    rows[4], # street name string\n",
    "                    rows[5], # neighborhood string\n",
    "                    rows[6], # state\n",
    "                    rows[7]  # zip\n",
    "                ))\n",
    "\n",
    "                f_out.write(\"%s,%s,%s\\n\" % (\n",
    "                    rec[5], # excav_comp\n",
    "                    rec[8], # inter1\n",
    "                    rec[9].strip(), # inter2\n",
    "                ))\n",
    "\n",
    "                print(\"Job index %d status: complete!\" % i, end='\\r')\n",
    "                f_log.write(\"Job index %d status: complete!\\n\" % i)\n",
    "\n",
    "            except:\n",
    "                f_bad.write(\"%s\\n\" % line)\n",
    "                n += 1\n",
    "                print(\"\\rJob index %d status: bad input line!(Total: %d)\" % (i, n), end='\\r')\n",
    "                f_log.write(\"Job index %d status: bad input line!(Total: %d)\\n\" % (i, n))\n",
    "\n",
    "            i += 1\n",
    "\n",
    "    # finalize geocoding\n",
    "    f_in.close()\n",
    "    f_out.close()\n",
    "    f_bad.close()\n",
    "    f_log.close()\n",
    "    print(\"Geocoding complete!\", end='\\r')\n",
    "    print(\"Input/Output files closed!\", end='\\r')\n",
    "    \n",
    "    if conn:\n",
    "        conn.close()\n",
    "        print(\"Database disconnected!\", end='\\r')\n",
    "    \n",
    "    # send email notification when session complete\n",
    "    stop_sbj, stop_msg = session_finish_msg(input_path, output_path, input_file, i, n, total_entry)\n",
    "    email_notification(stop_sbj, stop_msg)"
   ]
  },
  {
   "cell_type": "code",
   "execution_count": 24,
   "metadata": {},
   "outputs": [],
   "source": [
    "import os\n",
    "\n",
    "total_f = [x for x in os.listdir('H:geocoding/reduced_input/') if re.search(r'emergency', x)]\n",
    "processed_f = [x.strip() for x in open('H:geocoding/reduced_input/processed.txt').readlines()]"
   ]
  },
  {
   "cell_type": "code",
   "execution_count": 25,
   "metadata": {},
   "outputs": [],
   "source": [
    "unprocessed_f = set(total_f) - set(processed_f)"
   ]
  },
  {
   "cell_type": "code",
   "execution_count": 26,
   "metadata": {},
   "outputs": [],
   "source": [
    "import numpy as np\n",
    "from numpy import random"
   ]
  },
  {
   "cell_type": "code",
   "execution_count": 27,
   "metadata": {
    "scrolled": true
   },
   "outputs": [
    {
     "data": {
      "text/plain": [
       "{'emergency_2015-02-09-21_44_38.txt',\n",
       " 'emergency_2015-02-09-21_44_59.txt',\n",
       " 'emergency_2015-02-09-21_45_12.txt',\n",
       " 'emergency_2015-02-09-21_45_27.txt',\n",
       " 'emergency_2015-02-09-21_45_44.txt',\n",
       " 'emergency_2015-02-09-21_46_01.txt',\n",
       " 'emergency_2015-02-09-21_46_17.txt',\n",
       " 'emergency_2015-02-09-21_46_37.txt',\n",
       " 'emergency_2015-02-09-21_46_56.txt',\n",
       " 'emergency_2015-02-09-21_47_07.txt',\n",
       " 'emergency_2015-02-09-21_47_23.txt',\n",
       " 'emergency_2015-02-09-21_47_41.txt',\n",
       " 'emergency_2015-02-09-21_47_57.txt',\n",
       " 'emergency_2015-02-09-21_49_11.txt',\n",
       " 'emergency_2015-02-09-21_49_43.txt',\n",
       " 'emergency_2015-02-09-21_50_03.txt',\n",
       " 'emergency_2015-02-09-21_50_26.txt',\n",
       " 'emergency_2015-02-09-21_50_47.txt',\n",
       " 'emergency_2015-02-09-21_51_03.txt',\n",
       " 'emergency_2015-02-09-21_51_30.txt',\n",
       " 'emergency_2015-02-09-21_51_43.txt',\n",
       " 'emergency_2015-02-09-21_52_05.txt',\n",
       " 'emergency_2015-02-09-21_52_19.txt',\n",
       " 'emergency_2015-02-09-21_52_44.txt',\n",
       " 'emergency_2015-02-09-21_52_58.txt',\n",
       " 'emergency_2015-02-09-21_53_25.txt',\n",
       " 'emergency_2015-02-09-21_53_39.txt',\n",
       " 'emergency_2015-02-09-21_54_00.txt',\n",
       " 'emergency_2015-02-09-21_54_16.txt',\n",
       " 'emergency_2015-02-09-21_54_37.txt'}"
      ]
     },
     "execution_count": 27,
     "metadata": {},
     "output_type": "execute_result"
    }
   ],
   "source": [
    "unprocessed_f"
   ]
  },
  {
   "cell_type": "code",
   "execution_count": 28,
   "metadata": {},
   "outputs": [
    {
     "data": {
      "text/plain": [
       "30"
      ]
     },
     "execution_count": 28,
     "metadata": {},
     "output_type": "execute_result"
    }
   ],
   "source": [
    "len(unprocessed_f)"
   ]
  },
  {
   "cell_type": "code",
   "execution_count": null,
   "metadata": {},
   "outputs": [
    {
     "name": "stdout",
     "output_type": "stream",
     "text": [
      "Job index 1149 status: complete!line!(Total: 27))\r"
     ]
    }
   ],
   "source": [
    "lst_next = ['emergency_2015-02-09-21_44_38.txt',\n",
    " 'emergency_2015-02-09-21_44_59.txt',\n",
    " 'emergency_2015-02-09-21_45_12.txt',\n",
    " 'emergency_2015-02-09-21_45_27.txt',\n",
    " 'emergency_2015-02-09-21_45_44.txt',\n",
    " 'emergency_2015-02-09-21_46_01.txt',\n",
    " 'emergency_2015-02-09-21_46_17.txt',\n",
    " 'emergency_2015-02-09-21_46_37.txt',\n",
    " 'emergency_2015-02-09-21_46_56.txt',\n",
    " 'emergency_2015-02-09-21_47_07.txt']\n",
    "\n",
    "for job in lst_next:\n",
    "    geocoder(\"H:/geocoding/reduced_input/\", \"H:/geocoding/reduced_input/geocode_out/\", job)\n",
    "    processed_rec = open('H:geocoding/reduced_input/processed.txt', 'a')\n",
    "    processed_rec.write('\\n%s' % job)\n",
    "    processed_rec.close()"
   ]
  },
  {
   "cell_type": "code",
   "execution_count": null,
   "metadata": {},
   "outputs": [],
   "source": []
  }
 ],
 "metadata": {
  "kernelspec": {
   "display_name": "Python 3",
   "language": "python",
   "name": "python3"
  },
  "language_info": {
   "codemirror_mode": {
    "name": "ipython",
    "version": 3
   },
   "file_extension": ".py",
   "mimetype": "text/x-python",
   "name": "python",
   "nbconvert_exporter": "python",
   "pygments_lexer": "ipython3",
   "version": "3.7.4"
  },
  "latex_envs": {
   "LaTeX_envs_menu_present": true,
   "autoclose": false,
   "autocomplete": true,
   "bibliofile": "biblio.bib",
   "cite_by": "apalike",
   "current_citInitial": 1,
   "eqLabelWithNumbers": true,
   "eqNumInitial": 1,
   "hotkeys": {
    "equation": "Ctrl-E",
    "itemize": "Ctrl-I"
   },
   "labels_anchors": false,
   "latex_user_defs": false,
   "report_style_numbering": false,
   "user_envs_cfg": false
  },
  "toc": {
   "base_numbering": 1,
   "nav_menu": {},
   "number_sections": true,
   "sideBar": true,
   "skip_h1_title": false,
   "title_cell": "Table of Contents",
   "title_sidebar": "Contents",
   "toc_cell": false,
   "toc_position": {},
   "toc_section_display": true,
   "toc_window_display": false
  },
  "varInspector": {
   "cols": {
    "lenName": 16,
    "lenType": 16,
    "lenVar": 40
   },
   "kernels_config": {
    "python": {
     "delete_cmd_postfix": "",
     "delete_cmd_prefix": "del ",
     "library": "var_list.py",
     "varRefreshCmd": "print(var_dic_list())"
    },
    "r": {
     "delete_cmd_postfix": ") ",
     "delete_cmd_prefix": "rm(",
     "library": "var_list.r",
     "varRefreshCmd": "cat(var_dic_list()) "
    }
   },
   "position": {
    "height": "296.4px",
    "left": "1642px",
    "right": "20px",
    "top": "120px",
    "width": "372.4px"
   },
   "types_to_exclude": [
    "module",
    "function",
    "builtin_function_or_method",
    "instance",
    "_Feature"
   ],
   "window_display": true
  }
 },
 "nbformat": 4,
 "nbformat_minor": 2
}
